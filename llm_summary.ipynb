{
 "cells": [
  {
   "cell_type": "code",
   "execution_count": 1,
   "metadata": {},
   "outputs": [],
   "source": [
    "from langchain import OpenAI, LLMChain\n",
    "from langchain.text_splitter import CharacterTextSplitter\n",
    "from langchain.chains.mapreduce import MapReduceChain\n",
    "from langchain.prompts import PromptTemplate"
   ]
  },
  {
   "cell_type": "code",
   "execution_count": 2,
   "metadata": {},
   "outputs": [],
   "source": [
    "llm = OpenAI(temperature=0)"
   ]
  },
  {
   "cell_type": "code",
   "execution_count": 3,
   "metadata": {},
   "outputs": [],
   "source": [
    "text_splitter = CharacterTextSplitter()\n",
    "\n",
    "with open('These are the American workers most worried that A.I. will soon make their jobs obsolete.txt') as f:\n",
    "    state_of_the_union = f.read()\n",
    "\n",
    "texts = text_splitter.split_text(state_of_the_union)"
   ]
  },
  {
   "cell_type": "code",
   "execution_count": 9,
   "metadata": {},
   "outputs": [
    {
     "data": {
      "text/plain": [
       "['Microsoft, Google strategy to test AI search ads irks some brands | ReutersSkip to main contentExclusive news, data and analytics for financial market professionalsLearn more aboutRefinitivReuters homeWorldBusinessMarketsSustainabilityLegalBreakingviewsTechnologyInvestigationsMoreMy ViewRegisterDisruptedMicrosoft, Google strategy to test AI search ads irks some brandsBySheila DangJune 8, 202310:44 AM UTCUpdated  ago[1/2]Google, Microsoft and Alphabet logos and AI Artificial Intelligence words are seen in this illustration taken, May 4, 2023. REUTERS/Dado Ruvic/Illustration/June 8 (Reuters) - Alphabet\\'s(GOOGL.O)Google and Microsoft(MSFT.O)are inserting ads into AI experiments without providing an option to opt out of participation, an approach that has already rankled some brands and risks further pushback from the industry, ad buyers told Reuters.The two tech giants areracing to revamp their search engines with artificial intelligencethat can produce written responses to open-ended queries. That process will upend how advertisers reach consumers through ads on search results, a market that is estimated to grow 10% to $286 billion this year, according to research firm MAGNA.Microsoft is testing ads in theBing AI chatbot, which began rolling out to users in February, by relocating some traditional search ads and inserting them into the AI responses, the company said.In a May interview, Google’s general manager of ads, Jerry Dischler,said the tech company would also use existing search adsto experiment with ad placements within the AI search snapshots, an early-test feature calledSearch Generative Experiencethat first became available last month. Google said advertisers are currently not able to opt out of the test.Both companies said they are in the early stages of testing ads in generative AI features and were actively working with advertisers and soliciting their feedback.Some advertisers are wary of their marketing budgets being spent on features that are available to a limited number of users, ad buyers said. Advertisers typically also want to have control over where their ads appear online and are cautious about appearing next to inappropriate or unsuitable content.Microsoft and Google said existing guard rails on their search engines, including lists of blocked keywords to prevent ads from appearing on those queries, would also apply to their AI search features.The two companies have poured billions into generative AI, making it crucial to derive revenue from the technology. That has included investments in other AI companies, such as Microsoft’s multibillion-dollar bet on OpenAI, creator of the popular ChatGPT, and Google’s $400 million stake in Anthropic, an OpenAI competitor.\\'BLACK BOX\\'Testing new ad placements without gaining consent from brands is a concerning practice for advertisers, said Jason Lee, executive vice president of brand safety at Horizon Media, a media agency that has worked with brands like insurer GEICO and Corona beer. Another ad buyer at a major ad agency also said the practice was not considered standard in the industry.Multiple large advertisers temporarily pulled their ad spending from Microsoft in response, according to an ad buyer familiar with the matter. Among them, Wells Fargo(WFC.N)continues to keep some of its ad budget off Microsoft, the person added.Wells Fargo did not respond to a request for comment.In an interview, Lynne Kjolso, Microsoft’s vice president of global partner and retail media, said the company aimed to make the introduction of the new Bing ad formats as “seamless” as possible for advertisers, without creating more work for them.Microsoft recently launched hotel ads in the Bing chatbot and is working to introduce ads for other industries, such as real estate, she said.The concerns from advertisers also play in to a larger tension as tech platforms increasingly offer AI solutions that could produce better results for advertisers but require them to give up some level of control over their ads.“This is not the first time that Google and Bing have expanded their networks while restricting control for advertisers,” said Samantha Aiken, a paid search supervisor at marketing agency Code3.For example, many in the industry consider Google’s Performance Max, a tool that uses AI to automatically find the best ad placements across multiple Google products instead of requiring advertisers to set up different ad campaigns, to be an analytical “black box,” she said, as the algorithmic models do not disclose how it determines where to serve ads.Three ad buyers said they were concerned about Microsoft’s lack of transparency reporting, or reports that can show what search terms triggered a brand’s ads to appear in generative AI experiences, or how the ads performed versus traditional search ads.While Microsoft representatives have been receptive to the concerns, they have not provided a timeline for when more transparency reporting would be available, two of the ad buyers said.“Advertisers can’t just go in and pull the report to see how often they\\'re showing (in the Bing chatbot),” said one of the ad buyers, who requested anonymity to discuss private conversations with a business partner.Kjolso said transparency reports have been a top request from ad agencies, and that Microsoft’s product teams were “working on it with priority.”“We are absolutely thinking through what additional levers and controls we need to be able to provide to advertisers,” she said, adding that sales teams were actively working with some brands to allay any concerns about where their ads are appearing.Two media buyers from major ad agencies said there were questions about how the search giants would prevent ads from appearing on AI responses that include \"hallucinations\" or false information.Bing’s Web information can act as a \"grounding\" mechanism for large-language models and actually reduce the risk of hallucinations, Kjolso said.Reporting by Sheila Dang in Dallas;\\nEditing by Kenneth Li and Matthew LewisOur Standards:The Thomson Reuters Trust Principles.Read NextDisruptedcategoryChina successfully launches a pilot reusable spacecraft, state media reportAugust 5, 2022article with videoDisruptedcategoryApple forecasts faster sales growth, strong iPhone demand despite glum economyJuly 29, 2022DisruptedcategoryMeta posts first-ever revenue drop as inflation throttles ad salesJuly 28, 2022DisruptedcategoryYouTube\\'s quarter shows problems Meta may face: TikTok, weakening economyJuly 28, 2022More from ReutersTechnologyAdobe pushes Firefly AI into big business, with financial coverDisruptedcategory·June 8, 2023Adobe Inc said on Thursday it will offer Firefly, its artificial intelligence tool for generating images, to its large business customers, with financial indemnity for copyright challenges involving content made with the tools.DisruptedcategoryLegal AI company EvenUp raises $50 mln at $325 mln valuationJune 8, 2023TechnologycategoryBritain, U.S. to work together on AI safety, says SunakJune 8, 2023article with galleryTechnologycategorySenators ask U.S. Justice Dept to probe Binance statements to CongressJune 8, 2023Future of MoneycategoryAustralia\\'s largest bank blocks payments to some crypto exchangesJune 8, 2023Site IndexBrowseWorldBusinessLegalMarketsBreakingviewsTechnologyInvestigations, opens new tabLifestyleAbout ReutersAbout Reuters, opens new tabCareers, opens new tabReuters News Agency, opens new tabBrand Attribution Guidelines, opens new tabReuters Leadership, opens new tabReuters Fact Check, opens new tabReuters Diversity Report, opens new tabStay InformedDownload the App, opens new tabNewsletters, opens new tabInformation you can trustReuters, the news and media division of Thomson Reuters, is the world’s largest multimedia news provider, reaching billions of people worldwide every day. Reuters provides business, financial, national and international news to professionals via desktop terminals, the world\\'s media organizations, industry events and directly to consumers.Follow UsThomson Reuters ProductsWestlaw, opens new tabBuild the strongest argument relying on authoritative content, attorney-editor expertise, and industry defining technology.Onesource, opens new tabThe most comprehensive solution to manage all your complex and ever-expanding tax and compliance needs.Checkpoint, opens new tabThe industry leader for online information for tax, accounting and finance professionals.Refinitiv ProductsRefinitiv Workspace, opens new tabAccess unmatched financial data, news and content in a highly-customised workflow experience on desktop, web and mobile.Refinitiv Data Catalogue, opens new tabBrowse an unrivalled portfolio of real-time and historical market data and insights from worldwide sources and experts.Refinitiv World-Check, opens new tabScreen for heightened risk individual and entities globally to help uncover hidden risks in business relationships and human networks.Advertise With Us, opens new tabAdvertising Guidelines, opens new tabCoupons, opens new tabCookies, opens new tabTerms of Use, opens new tabPrivacy, opens new tabDigital Accessibility, opens new tabCorrections, opens new tabSite Feedback, opens new tabAll quotes delayed a minimum of 15 minutes.See here for a complete list of exchanges and delays.© 2023 Reuters.All rights reserved']"
      ]
     },
     "execution_count": 9,
     "metadata": {},
     "output_type": "execute_result"
    }
   ],
   "source": [
    "texts"
   ]
  },
  {
   "cell_type": "code",
   "execution_count": 6,
   "metadata": {},
   "outputs": [],
   "source": [
    "from langchain.docstore.document import Document\n",
    "\n",
    "docs = [Document(page_content=t) for t in texts[:3]]"
   ]
  },
  {
   "cell_type": "code",
   "execution_count": 7,
   "metadata": {},
   "outputs": [],
   "source": [
    "from langchain.chains.summarize import load_summarize_chain"
   ]
  },
  {
   "cell_type": "code",
   "execution_count": 9,
   "metadata": {},
   "outputs": [
    {
     "data": {
      "text/plain": [
       "' Microsoft and Google are testing AI search ads without an opt-out option, causing some brands to pull their ad spending. Ad buyers are concerned about the lack of transparency and control over where their ads appear, as well as the risk of ads appearing next to inappropriate content. Microsoft and Google are investing billions into AI and are working with advertisers to address their concerns.'"
      ]
     },
     "execution_count": 9,
     "metadata": {},
     "output_type": "execute_result"
    }
   ],
   "source": [
    "chain = load_summarize_chain(llm, chain_type=\"map_reduce\")\n",
    "chain.run(docs)"
   ]
  }
 ],
 "metadata": {
  "kernelspec": {
   "display_name": "chatfile",
   "language": "python",
   "name": "python3"
  },
  "language_info": {
   "codemirror_mode": {
    "name": "ipython",
    "version": 3
   },
   "file_extension": ".py",
   "mimetype": "text/x-python",
   "name": "python",
   "nbconvert_exporter": "python",
   "pygments_lexer": "ipython3",
   "version": "3.10.11"
  },
  "orig_nbformat": 4
 },
 "nbformat": 4,
 "nbformat_minor": 2
}
